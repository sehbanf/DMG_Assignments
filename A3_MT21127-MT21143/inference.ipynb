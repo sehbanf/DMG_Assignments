{
  "nbformat": 4,
  "nbformat_minor": 0,
  "metadata": {
    "colab": {
      "name": "Q2DMGA3.ipynb",
      "provenance": [],
      "collapsed_sections": []
    },
    "kernelspec": {
      "name": "python3",
      "display_name": "Python 3"
    },
    "language_info": {
      "name": "python"
    }
  },
  "cells": [
    {
      "cell_type": "code",
      "metadata": {
        "id": "ojprq5-T7y8F"
      },
      "source": [
        "import numpy as np\n",
        "import pandas as pd\n",
        "from sklearn.cluster import KMeans\n",
        "from sklearn.preprocessing import LabelEncoder, OneHotEncoder\n",
        "import pickle"
      ],
      "execution_count": 10,
      "outputs": []
    },
    {
      "cell_type": "code",
      "metadata": {
        "id": "uzErbKgKBCkZ"
      },
      "source": [
        "def mapping(y_pred):\n",
        "  lst = []\n",
        "  for i in y_pred:\n",
        "    if i==0:\n",
        "      lst.append(1)\n",
        "    elif i==4:\n",
        "      lst.append(3)\n",
        "    else :\n",
        "      lst.append(2)\n",
        "  return lst"
      ],
      "execution_count": 16,
      "outputs": []
    },
    {
      "cell_type": "code",
      "metadata": {
        "id": "wsqSmVmE8WXb"
      },
      "source": [
        "def predict(test_set) :\n",
        "    filename = 'final_model.sav'\n",
        "    best_model = pickle.load(open(filename, 'rb'))\n",
        "    # Do all preprocessings inside this function only.\n",
        "    test_data = pd.read_csv(test_set)\n",
        "    #test_data = test_data.drop_duplicates()\n",
        "    labelencoder = LabelEncoder()\n",
        "    test_data['Elevation'] = labelencoder.fit_transform(test_data['Elevation'])\n",
        "    test_data['Aspect'] = labelencoder.fit_transform(test_data['Aspect'])\n",
        "    test_data['Slope'] = labelencoder.fit_transform(test_data['Slope'])\n",
        "    test_data['Hillshade_9am'] = labelencoder.fit_transform(test_data['Hillshade_9am'])\n",
        "    test_data['Hillshade_Noon'] = labelencoder.fit_transform(test_data['Hillshade_Noon'])\n",
        "    test_data['Horizontal_Distance_To_Fire_Points'] = labelencoder.fit_transform(test_data['Horizontal_Distance_To_Fire_Points'])\n",
        "    # predict on the test set provided\n",
        "    y_pred = best_model.predict(test_data)\n",
        "    prediction = mapping(y_pred)\n",
        "    \n",
        "    return prediction"
      ],
      "execution_count": 66,
      "outputs": []
    }
  ]
}